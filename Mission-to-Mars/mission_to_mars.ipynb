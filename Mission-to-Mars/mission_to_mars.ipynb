{
 "cells": [
  {
   "cell_type": "code",
   "execution_count": 1,
   "metadata": {},
   "outputs": [],
   "source": [
    "# import dependencies\n",
    "import pandas as pd\n",
    "\n",
    "import requests\n",
    "from bs4 import BeautifulSoup\n",
    "\n",
    "from splinter import Browser\n"
   ]
  },
  {
   "cell_type": "code",
   "execution_count": 2,
   "metadata": {},
   "outputs": [],
   "source": [
    "def get_soup(url):\n",
    "    response = requests.get(url)\n",
    "    soup = BeautifulSoup(response.content, 'html.parser')\n",
    "    return soup\n"
   ]
  },
  {
   "cell_type": "code",
   "execution_count": 3,
   "metadata": {},
   "outputs": [],
   "source": [
    "def get_latest_news():\n",
    "    \"\"\" scrapes NASA for latest news on mars\n",
    "    \"\"\"\n",
    "    # get news titles and text\n",
    "    mars_news_url = 'https://mars.nasa.gov/news/'\n",
    "\n",
    "    news_soup = get_soup(mars_news_url)\n",
    "\n",
    "    news_title_div = news_soup.find('div', {'class':'content_title'})\n",
    "    news_desc_div = news_soup.find('div', {'class':'rollover_description_inner'})\n",
    "\n",
    "    news_title = news_title_div.text.strip()\n",
    "    news_p = news_desc_div.text.strip()\n",
    "\n",
    "    return news_title, news_p\n"
   ]
  },
  {
   "cell_type": "code",
   "execution_count": 4,
   "metadata": {},
   "outputs": [],
   "source": [
    "def get_feature_image():\n",
    "    \"\"\" get url for featured image from the Jet Propulsion Laboratory website\n",
    "    \"\"\"\n",
    "    jpl_url = 'https://www.jpl.nasa.gov/spaceimages/?search=&category=Mars'\n",
    "\n",
    "    with Browser(headless=True) as b:\n",
    "        b.visit(jpl_url)\n",
    "\n",
    "        carousel = b.find_by_css('div[class=\"carousel_items\"]').first\n",
    "        carousel.find_by_css('a').first.click()\n",
    "\n",
    "        img = b.find_by_css('img[class=\"fancybox-image\"]').first\n",
    "        featured_image_url = img['src']\n",
    "\n",
    "    return featured_image_url\n"
   ]
  },
  {
   "cell_type": "code",
   "execution_count": 5,
   "metadata": {},
   "outputs": [],
   "source": [
    "def get_mars_facts():\n",
    "    \"\"\" get table of facts about mars\n",
    "    \"\"\"\n",
    "    mars_facts_url = 'https://space-facts.com/mars/'\n",
    "    facts_soup = get_soup(mars_facts_url)\n",
    "\n",
    "    # gets mars facts table\n",
    "    facts_table = facts_soup.find('table', {'class':'tablepress'})\n",
    "\n",
    "    col1_data = facts_table.find_all('td', {'class':'column-1'})\n",
    "    col2_data = facts_table.find_all('td', {'class':'column-2'})\n",
    "\n",
    "    col1 = [td.text for td in col1_data]\n",
    "    col2 = [td.text for td in col2_data]\n",
    "\n",
    "    facts_table_df = pd.DataFrame({'description':col1, 'value':col2}).set_index('description')\n",
    "\n",
    "    return facts_table_df.to_html(classes=\"table table-striped\")"
   ]
  },
  {
   "cell_type": "code",
   "execution_count": 6,
   "metadata": {},
   "outputs": [],
   "source": [
    "def get_mars_weather():\n",
    "    \"\"\" get weather data from first tweet from mars twitter page\n",
    "    \"\"\"\n",
    "    mars_twitter_url = 'https://twitter.com/marswxreport?lang=en'\n",
    "\n",
    "    twitter_soup = get_soup(mars_twitter_url)\n",
    "\n",
    "    first_tweet_p = twitter_soup.find('p', {'class':'TweetTextSize'})\n",
    "\n",
    "    mars_weather = first_tweet_p.text.replace('\\n', ', ').split('pic')[0]\n",
    "\n",
    "    return mars_weather\n"
   ]
  },
  {
   "cell_type": "code",
   "execution_count": 7,
   "metadata": {},
   "outputs": [],
   "source": [
    "def get_hemisphere_urls():\n",
    "    \"\"\" gets images of hemispheres from astrogeology\n",
    "    \"\"\"\n",
    "    mars_hemisphere_url = 'https://astrogeology.usgs.gov/search/results?q=hemisphere+enhanced&k1=target&v1=Mars'\n",
    "    hemisphere_image_urls = []\n",
    "\n",
    "    with Browser(headless=True) as b:\n",
    "        b.visit(mars_hemisphere_url)\n",
    "\n",
    "        div_item = b.find_by_css('div[class=\"item\"]')\n",
    "\n",
    "        enhanced_img_links = []\n",
    "        title_list = []\n",
    "        for item in div_item:\n",
    "            enhanced_img_links.append(item.find_by_css('a')['href'])\n",
    "            title_list.append(item.find_by_css('h3').text.rsplit(' ', 1)[0])\n",
    "\n",
    "        img_url_list = []\n",
    "        for link in enhanced_img_links:\n",
    "            b.visit(link)\n",
    "\n",
    "            wide_img = b.find_by_css('img[class=\"wide-image\"]')\n",
    "            src = wide_img['src']\n",
    "\n",
    "            img_url_list.append(src)\n",
    "\n",
    "    for i in range(len(title_list)):\n",
    "        hemisphere_image_urls.append(\n",
    "            {\n",
    "                'title' : title_list[i],\n",
    "                'img_url': img_url_list[i]\n",
    "            }\n",
    "        )\n",
    "\n",
    "    return hemisphere_image_urls"
   ]
  },
  {
   "cell_type": "code",
   "execution_count": 8,
   "metadata": {},
   "outputs": [],
   "source": [
    "def scrape():\n",
    "    news_title, news_p = get_latest_news() \n",
    "\n",
    "    mars_data = {\n",
    "        'latest_news' : {'title':news_title, 'par':news_p},\n",
    "        'feat_img' : get_feature_image(),\n",
    "        'facts_table_html' : get_mars_facts(),\n",
    "        'mars_weather' : get_mars_weather(),\n",
    "        'hemisphere_imgs' : get_hemisphere_urls()\n",
    "    }\n",
    "\n",
    "    return mars_data\n"
   ]
  },
  {
   "cell_type": "code",
   "execution_count": null,
   "metadata": {},
   "outputs": [],
   "source": []
  }
 ],
 "metadata": {
  "kernelspec": {
   "display_name": "Python 3",
   "language": "python",
   "name": "python3"
  },
  "language_info": {
   "codemirror_mode": {
    "name": "ipython",
    "version": 3
   },
   "file_extension": ".py",
   "mimetype": "text/x-python",
   "name": "python",
   "nbconvert_exporter": "python",
   "pygments_lexer": "ipython3",
   "version": "3.6.9"
  }
 },
 "nbformat": 4,
 "nbformat_minor": 2
}
